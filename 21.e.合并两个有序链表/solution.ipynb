{
 "cells": [
  {
   "cell_type": "code",
   "execution_count": null,
   "metadata": {
    "vscode": {
     "languageId": "cpp"
    }
   },
   "outputs": [],
   "source": [
    "#include<iostream>\n",
    "\n",
    "class Solution {\n",
    "public:\n",
    "    int main(int argc, char const *argv[])\n",
    "    {\n",
    "        std::cout<<\"hello\";   \n",
    "        return 0;\n",
    "    }\n",
    "};"
   ]
  }
 ],
 "metadata": {
  "interpreter": {
   "hash": "56fdd77bd763d7d1133ca2eec65f52629a9811843be0d208a450c473ac03b3d5"
  },
  "kernelspec": {
   "display_name": "C++17",
   "language": "C++17",
   "name": "xcpp17"
  },
  "language_info": {
   "name": "C++17",
   "version": "3.9.10"
  },
  "orig_nbformat": 4
 },
 "nbformat": 4,
 "nbformat_minor": 2
}

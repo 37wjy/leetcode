{
 "cells": [
  {
   "cell_type": "markdown",
   "metadata": {},
   "source": [
    "2044. 统计按位或能得到最大值的子集数目\n",
    "\n",
    "给你一个整数数组 nums ，请你找出 nums 子集 按位或 可能得到的 最大值 ，并返回按位或能得到最大值的 不同非空子集的数目 。\n",
    "\n",
    "如果数组 a 可以由数组 b 删除一些元素（或不删除）得到，则认为数组 a 是数组 b 的一个 子集 。如果选中的元素下标位置不一样，则认为两个子集 不同 。\n",
    "\n",
    "对数组 a 执行 按位或 ，结果等于 a[0] OR a[1] OR ... OR a[a.length - 1]（下标从 0 开始）。\n",
    "\n",
    " \n",
    "\n",
    "示例 1：\n",
    "\n",
    "    输入：nums = [3,1]\n",
    "\n",
    "输出：2\n",
    "\n",
    "    解释：子集按位或能得到的最大值是 3 。有 2 个子集按位或可以得到 3 ：\n",
    "    - [3]\n",
    "    - [3,1]\n",
    "\n",
    "示例 2：\n",
    "\n",
    "    输入：nums = [2,2,2]\n",
    "    输出：7\n",
    "    解释：[2,2,2] 的所有非空子集的按位或都可以得到 2 。总共有 23 - 1 = 7 个子集。\n",
    "\n",
    "示例 3：\n",
    "\n",
    "    输入：nums = [3,2,1,5]\n",
    "    输出：6\n",
    "    解释：子集按位或可能的最大值是 7 。有 6 个子集按位或可以得到 7 ：\n",
    "    - [3,5]\n",
    "    - [3,1,5]\n",
    "    - [3,2,5]\n",
    "    - [3,2,1,5]\n",
    "    - [2,5]\n",
    "    - [2,1,5]\n",
    " \n",
    "\n",
    "提示：\n",
    "\n",
    "    1 <= nums.length <= 16\n",
    "    1 <= nums[i] <= 105\n",
    "\n"
   ]
  },
  {
   "cell_type": "markdown",
   "metadata": {},
   "source": [
    "c#"
   ]
  },
  {
   "cell_type": "code",
   "execution_count": null,
   "metadata": {
    "dotnet_interactive": {
     "language": "csharp"
    }
   },
   "outputs": [],
   "source": [
    "using System;"
   ]
  },
  {
   "cell_type": "code",
   "execution_count": null,
   "metadata": {
    "dotnet_interactive": {
     "language": "csharp"
    }
   },
   "outputs": [],
   "source": [
    "class Solution {\n",
    "    public int countMaxOrSubsets(int[] nums) {\n",
    "        int target=0;\n",
    "        for(int i=0;i<nums.length;i++){target|=nums[i];}   //统计最大值\n",
    "\n",
    "        int max=1<<nums.length; #共多少种组合\n",
    "        int ans=1;\n",
    "        for(int i=0;i<max-1;i++){\n",
    "            if(calculateOr(nums,i)==target){ans++;}\n",
    "        }\n",
    "        return ans;\n",
    "    }\n",
    "\n",
    "    public int calculateOr(int nums[],int mask){ #mask对应统计\n",
    "        int ans=0;\n",
    "        for(int i=0;i<nums.length;i++){\n",
    "            if((mask&(1<<i))!=0){\n",
    "                ans|=nums[i];\n",
    "            }\n",
    "        }\n",
    "        return ans;\n",
    "    }\n",
    "}"
   ]
  },
  {
   "cell_type": "markdown",
   "metadata": {},
   "source": [
    "c++"
   ]
  },
  {
   "cell_type": "code",
   "execution_count": null,
   "metadata": {
    "dotnet_interactive": {
     "language": "javascript"
    }
   },
   "outputs": [],
   "source": [
    "#include <iostream>\n",
    "#include <vector>\n",
    "\n",
    "\n",
    "using namespace std;\n",
    "\n",
    "class Solution {\n",
    "public:\n",
    "    int countMaxOrSubsets(vector<int>& nums) {\n",
    "        auto count = 1;\n",
    "        auto max = bitWise(nums, (1<<nums.size())-1);\n",
    "        for(auto i=0;i<nums.size(),++i)\n",
    "            if(bitWise(nums,i)==max)\n",
    "                count++;\n",
    "        return count;\n",
    "    }\n",
    "\n",
    "    int bitWise(vector<int>& nums,int mask){\n",
    "        int count = 0;\n",
    "        for(auto i=0,i<nums.size(),++i)if(mask&1<<i)count|=nums[i];\n",
    "        return count;\n",
    "    }\n",
    "};"
   ]
  },
  {
   "cell_type": "markdown",
   "metadata": {},
   "source": [
    "python"
   ]
  },
  {
   "cell_type": "code",
   "execution_count": null,
   "metadata": {
    "dotnet_interactive": {
     "language": "javascript"
    }
   },
   "outputs": [],
   "source": [
    "class Solution:\n",
    "    def countMaxOrSubsets(self, nums: List[int]) -> int:\n",
    "        nums = sorted(nums)\n",
    "        m = 0\n",
    "        for v in nums:\n",
    "            m|=v\n",
    "        \n",
    "        \n",
    "        "
   ]
  }
 ],
 "metadata": {
  "interpreter": {
   "hash": "860369afcb904c9d1be980dab2324b09152743dda9aa35e4ccf5f38abc01521e"
  },
  "kernelspec": {
   "display_name": "C++17",
   "language": "C++17",
   "name": "xcpp17"
  },
  "language_info": {
   "file_extension": ".cs",
   "mimetype": "text/x-csharp",
   "name": "C++17",
   "pygments_lexer": "csharp",
   "version": "3.9.7"
  },
  "orig_nbformat": 4
 },
 "nbformat": 4,
 "nbformat_minor": 2
}

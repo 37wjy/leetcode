{
 "cells": [
  {
   "cell_type": "code",
   "execution_count": null,
   "metadata": {
    "dotnet_interactive": {
     "language": "csharp"
    }
   },
   "outputs": [],
   "source": [
    "using System;\n",
    "using System.Text;\n",
    "using System.Collections.Generic;"
   ]
  },
  {
   "cell_type": "markdown",
   "metadata": {},
   "source": [
    "思路\n",
    "\n",
    "双链表+哈希"
   ]
  },
  {
   "cell_type": "code",
   "execution_count": null,
   "metadata": {
    "dotnet_interactive": {
     "language": "csharp"
    }
   },
   "outputs": [],
   "source": [
    "struct node{\n",
    "    public int key;\n",
    "    public int value;\n",
    "};\n",
    "\n",
    " class DulLink:LinkedList<T>\n",
    "{\n",
    "\n",
    "}\n",
    "\n",
    "public class LRUCache {\n",
    "\n",
    "    private int capacity;\n",
    "    private LinkedList<node> ll;\n",
    "    private Dictionary<int,node> map;\n",
    "\n",
    "    public LRUCache(int capacity) {\n",
    "        this.capacity = capacity;\n",
    "        this.ll = new LinkedList<node>();\n",
    "        this.map = new Dictionary<int,node>();\n",
    "    }\n",
    "    \n",
    "    public int Get(int key) {\n",
    "        try{\n",
    "            var tmp = this.map[key];\n",
    "            this.ll.Remove(tmp);\n",
    "            this.ll.AddFirst(tmp);\n",
    "            return tmp.value;\n",
    "        }\n",
    "        catch(KeyNotFoundException){\n",
    "            return -1;\n",
    "        }\n",
    "    }\n",
    "    \n",
    "    public void Put(int key, int value) {\n",
    "        var tmp = new node{key=key,value=value};\n",
    "        if(this.map.ContainsKey(key)){\n",
    "            this.ll.Remove(this.map[key]);  //这些remove应从node里删\n",
    "        }\n",
    "        this.ll.AddFirst(tmp);\n",
    "        this.map[key] = tmp;  \n",
    "        if(this.ll.Count>capacity){\n",
    "            this.map.Remove(this.ll.Last.Value.key);\n",
    "            this.ll.RemoveLast();\n",
    "        }\n",
    "    }\n",
    "}\n"
   ]
  },
  {
   "cell_type": "code",
   "execution_count": null,
   "metadata": {
    "dotnet_interactive": {
     "language": "csharp"
    }
   },
   "outputs": [
    {
     "name": "stdout",
     "output_type": "stream",
     "text": [
      "1\n",
      "2\n",
      "3\n",
      "remove 2\n",
      "4\n",
      "remove 1\n"
     ]
    }
   ],
   "source": [
    "LRUCache lRUCache = new LRUCache(2);\n",
    "lRUCache.Put(1, 1); // 缓存是 {1=1}\n",
    "lRUCache.Put(2, 2); // 缓存是 {1=1, 2=2}\n",
    "lRUCache.Get(1);    // 返回 1\n",
    "lRUCache.Put(3, 3); // 该操作会使得关键字 2 作废，缓存是 {1=1, 3=3}\n",
    "lRUCache.Get(2);    // 返回 -1 (未找到)\n",
    "lRUCache.Put(4, 4); // 该操作会使得关键字 1 作废，缓存是 {4=4, 3=3}\n",
    "lRUCache.Get(1);    // 返回 -1 (未找到)\n",
    "lRUCache.Get(3);    // 返回 3\n",
    "lRUCache.Get(4);  "
   ]
  },
  {
   "cell_type": "code",
   "execution_count": null,
   "metadata": {
    "dotnet_interactive": {
     "language": "csharp"
    }
   },
   "outputs": [],
   "source": []
  }
 ],
 "metadata": {
  "kernelspec": {
   "display_name": ".NET (C#)",
   "language": "C#",
   "name": ".net-csharp"
  },
  "language_info": {
   "file_extension": ".cs",
   "mimetype": "text/x-csharp",
   "name": "C#",
   "pygments_lexer": "csharp",
   "version": "9.0"
  },
  "orig_nbformat": 4
 },
 "nbformat": 4,
 "nbformat_minor": 2
}
